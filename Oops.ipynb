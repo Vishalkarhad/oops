{
  "nbformat": 4,
  "nbformat_minor": 0,
  "metadata": {
    "colab": {
      "provenance": []
    },
    "kernelspec": {
      "name": "python3",
      "display_name": "Python 3"
    },
    "language_info": {
      "name": "python"
    }
  },
  "cells": [
    {
      "cell_type": "markdown",
      "source": [
        "Problem 1: Bank Account Create a class representing a bank account with attributes like account number, account holder name, and balance. Implement methods to deposit and withdraw money from the account.\n"
      ],
      "metadata": {
        "id": "xeQnNXJLzN-x"
      }
    },
    {
      "cell_type": "code",
      "execution_count": null,
      "metadata": {
        "id": "cZE0xIMCzJzE"
      },
      "outputs": [],
      "source": [
        "class Bank:\n",
        "    def __init__(self):\n",
        "      self.list=[]\n",
        "      self.Name=input(\"Enter your Name :\")\n",
        "      self.accout_name=int(input(\"Enter your acount Number :\"))\n",
        "      self.balance=1000\n",
        "      self.list.append(f'balance :{self.balance}')\n",
        "\n",
        "    def Account_No(self):\n",
        "      print(f\"Your Account Number is :{self.accout_name}\")\n",
        "\n",
        "    def Holder_name(self):\n",
        "      print(f\"Your Name is :{self.Name}\")\n",
        "\n",
        "    def Balance(self):\n",
        "      print(f\"your balance is :{self.balance}\")\n",
        "\n",
        "\n",
        "    def Deposit(self):\n",
        "      amount=int(input('Enter amount to Deposit :'))\n",
        "      self.balance= self.balance + amount\n",
        "      print(f\"Your balance is Now :{self.balance}\")\n",
        "      self.list.append(f'Deposit : + {amount}')\n",
        "\n",
        "\n",
        "    def Withdraw(self):\n",
        "      print(f\"your balance is :{self.balance}\")\n",
        "      credit=int(input(\"Enter amount to Withdra :\"))\n",
        "      if self.balance<=credit:\n",
        "        print(\"insufficient balance\")\n",
        "      else:\n",
        "        self.balance=self.balance - credit\n",
        "        print(f'your balance is Now :{self.balance}')\n",
        "        self.list.append(f\"Withdraw : - {credit}\")\n",
        "\n",
        "    def Transcation(self):\n",
        "      for i in self.list:\n",
        "        print(i)\n",
        "      print(f'Total balance : {self.balance}')\n",
        "\n",
        "\n",
        "\n",
        "\n",
        "    def Menu(self):\n",
        "      print(f\"\"\"\n",
        "      1. Holder Name :{self.Name}\n",
        "      2. Account Number :{self.accout_name}\n",
        "      3. Your Balance :{self.balance}\n",
        "      \"\"\")\n",
        "      print(\"Do you want withdraw the amount press W\")\n",
        "      print(\"Do you want Deposit the amount press D\")\n",
        "      print(\"show my last transcation press T\")\n",
        "      tem = input().lower()\n",
        "      if tem== \"w\":\n",
        "       self.Withdraw()\n",
        "       self.Menu()\n",
        "      elif tem ==\"d\":\n",
        "        self.Deposit()\n",
        "        self.Menu()\n",
        "      elif tem ==\"t\":\n",
        "        self.Transcation()\n",
        "\n",
        "\n",
        "\n",
        "\n",
        "\n",
        "\n",
        "\n"
      ]
    },
    {
      "cell_type": "code",
      "source": [
        "sbi=Bank()\n"
      ],
      "metadata": {
        "colab": {
          "base_uri": "https://localhost:8080/"
        },
        "id": "WFTXhKH2zY0Z",
        "outputId": "4523a8dc-badb-411b-d4e5-b6b849f50ca5"
      },
      "execution_count": null,
      "outputs": [
        {
          "name": "stdout",
          "output_type": "stream",
          "text": [
            "Enter your Name :vishal karhad\n",
            "Enter your acount Number :123456\n"
          ]
        }
      ]
    },
    {
      "cell_type": "code",
      "source": [
        "sbi.Deposit()"
      ],
      "metadata": {
        "colab": {
          "base_uri": "https://localhost:8080/"
        },
        "id": "k86xAa_dWTz_",
        "outputId": "d6b18815-0b82-4e52-e925-86dc5de6a9ca"
      },
      "execution_count": null,
      "outputs": [
        {
          "output_type": "stream",
          "name": "stdout",
          "text": [
            "Enter amount to Deposit :500\n",
            "Your balance is Now :1500\n"
          ]
        }
      ]
    },
    {
      "cell_type": "code",
      "source": [
        "sbi.Withdraw()"
      ],
      "metadata": {
        "colab": {
          "base_uri": "https://localhost:8080/"
        },
        "id": "kQJ1O3AfWiAv",
        "outputId": "05d82a51-cf88-4f99-ce54-63ea3c23dfb5"
      },
      "execution_count": null,
      "outputs": [
        {
          "output_type": "stream",
          "name": "stdout",
          "text": [
            "your balance is :1500\n",
            "Enter amount to Withdra :999\n",
            "your balance is Now :501\n"
          ]
        }
      ]
    },
    {
      "cell_type": "code",
      "source": [
        "sbi.Transcation()"
      ],
      "metadata": {
        "colab": {
          "base_uri": "https://localhost:8080/"
        },
        "id": "81mCr7eQJqP3",
        "outputId": "14783944-f6c5-4482-abfd-e50abb6e9504"
      },
      "execution_count": null,
      "outputs": [
        {
          "output_type": "stream",
          "name": "stdout",
          "text": [
            "balance :1000\n",
            "Deposit : + 500\n",
            "Withdraw : - 999\n",
            "Total balance : 501\n"
          ]
        }
      ]
    },
    {
      "cell_type": "markdown",
      "source": [
        "Problem 2: Employee Management Create a class representing an employee with attributes like employee ID, name, and salary. Implement methods to calculate the yearly bonus and display employee details."
      ],
      "metadata": {
        "id": "eUnsrMCDXB5Q"
      }
    },
    {
      "cell_type": "code",
      "source": [
        "class Employee:\n",
        "    def __init__(self):\n",
        "        self.emp_id = int(input(\"Enter Employent ID\"))\n",
        "        self.name = input(\"Enter Employement Name\")\n",
        "        self.salary = int(input(\"Enter Employement Salary\"))\n",
        "\n",
        "    def calculate_yearly_bonus(self):\n",
        "        bonus_percentage =int(input(\"Enter bonus percentage\"))\n",
        "        bonus_amount = (bonus_percentage / 100) * self.salary\n",
        "        self.bonus= bonus_amount\n",
        "\n",
        "    def display_employee_details(self):\n",
        "        print(f\"Employee ID: {self.emp_id}\")\n",
        "        print(f\"Name: {self.name}\")\n",
        "        print(f\"Salary: ${self.salary:,.2f}\")\n",
        "        print(f\"Yearly Bonus: ${self.bonus:,.2f}\")\n",
        "\n",
        "\n",
        "\n"
      ],
      "metadata": {
        "id": "DIgGZmxsVzaW"
      },
      "execution_count": null,
      "outputs": []
    },
    {
      "cell_type": "code",
      "source": [
        "vishal=Employee()"
      ],
      "metadata": {
        "colab": {
          "base_uri": "https://localhost:8080/"
        },
        "id": "T_CnnrU0Yj_m",
        "outputId": "bde6b68f-0a06-4f84-ffbc-44687ce40e24"
      },
      "execution_count": null,
      "outputs": [
        {
          "name": "stdout",
          "output_type": "stream",
          "text": [
            "Enter Employent ID5227\n",
            "Enter Employement Namevishal karhad\n",
            "Enter Employement Salary350000\n"
          ]
        }
      ]
    },
    {
      "cell_type": "code",
      "source": [
        "vishal.calculate_yearly_bonus()\n"
      ],
      "metadata": {
        "colab": {
          "base_uri": "https://localhost:8080/"
        },
        "id": "cmKt8XXCbpFo",
        "outputId": "06d818a7-7ab8-49bd-e42c-02a5531a19b8"
      },
      "execution_count": null,
      "outputs": [
        {
          "name": "stdout",
          "output_type": "stream",
          "text": [
            "Enter bonus percentage10\n"
          ]
        }
      ]
    },
    {
      "cell_type": "code",
      "source": [
        "vishal.display_employee_details()\n"
      ],
      "metadata": {
        "colab": {
          "base_uri": "https://localhost:8080/"
        },
        "id": "UXmks-5gcTUf",
        "outputId": "6b86b0ce-df7a-41c8-ceb7-d382825c6f23"
      },
      "execution_count": null,
      "outputs": [
        {
          "output_type": "stream",
          "name": "stdout",
          "text": [
            "Employee ID: 5227\n",
            "Name: vishal karhad\n",
            "Salary: $350,000.00\n",
            "Yearly Bonus: $35,000.00\n"
          ]
        }
      ]
    },
    {
      "cell_type": "markdown",
      "source": [
        "Problem 3: Vehicle Rental Create a class representing a vehicle rental system. Implement methods to rent a vehicle, return a vehicle, and display available vehicles."
      ],
      "metadata": {
        "id": "O_QeKRccdrnZ"
      }
    },
    {
      "cell_type": "code",
      "source": [
        "class Vehical():\n",
        "\n",
        "  def __init__(self):\n",
        "    self.available_car=[\"CAR\",\"BUS\",\"TWO WHEELER\",\"FOUR WHEELER\",\"BIKE\"]\n",
        "    self.empty=[]\n",
        "\n",
        "\n",
        "  def Available(self):\n",
        "    num=0\n",
        "    for i in self.available_car:\n",
        "      num+=1\n",
        "      print(num,i)\n",
        "\n",
        "  def add(self):\n",
        "    self.Available()\n",
        "    while True:\n",
        "      x=input(\"Enter vehical to Add : or press e :\").upper()\n",
        "      if x!=\"E\":\n",
        "       self.available_car.append(x)\n",
        "      else:\n",
        "        break\n",
        "\n",
        "  def rent(self):\n",
        "    self.Available\n",
        "    self.x=int(input(\"pick a Vehical:\"))\n",
        "    self.available_car.pop(self.x-1)\n",
        "\n",
        "\n",
        "\n",
        "\n",
        "\n"
      ],
      "metadata": {
        "id": "yOsB5CpdhCEv"
      },
      "execution_count": null,
      "outputs": []
    },
    {
      "cell_type": "code",
      "source": [
        "a=Vehical()"
      ],
      "metadata": {
        "id": "H_9T3MoCB2WH"
      },
      "execution_count": null,
      "outputs": []
    },
    {
      "cell_type": "code",
      "source": [
        "\n",
        "a.add()"
      ],
      "metadata": {
        "colab": {
          "base_uri": "https://localhost:8080/"
        },
        "id": "Lnsaun2QEZvt",
        "outputId": "ce1b911b-1be3-497b-8a13-43f9f1835844"
      },
      "execution_count": null,
      "outputs": [
        {
          "name": "stdout",
          "output_type": "stream",
          "text": [
            "1 CAR\n",
            "2 BUS\n",
            "3 TWO WHEELER\n",
            "4 FOUR WHEELER\n",
            "5 BIKE\n",
            "Enter vehical to Add : or press e :auto\n",
            "Enter vehical to Add : or press e :ola\n",
            "Enter vehical to Add : or press e :E-car\n",
            "Enter vehical to Add : or press e :e\n"
          ]
        }
      ]
    },
    {
      "cell_type": "code",
      "source": [
        "a.Available()"
      ],
      "metadata": {
        "colab": {
          "base_uri": "https://localhost:8080/"
        },
        "id": "sqzx5sGmEiM2",
        "outputId": "7afb2959-08ef-4200-a2e9-1b87c5999fdb"
      },
      "execution_count": null,
      "outputs": [
        {
          "output_type": "stream",
          "name": "stdout",
          "text": [
            "1 CAR\n",
            "2 BUS\n",
            "3 TWO WHEELER\n",
            "4 FOUR WHEELER\n",
            "5 BIKE\n",
            "6 AUTO\n",
            "7 OLA\n",
            "8 E-CAR\n"
          ]
        }
      ]
    },
    {
      "cell_type": "code",
      "source": [
        "a.rent()"
      ],
      "metadata": {
        "colab": {
          "base_uri": "https://localhost:8080/"
        },
        "id": "W8P63lSxIWmO",
        "outputId": "f1bf8784-8675-4900-8de1-7330c2977f51"
      },
      "execution_count": null,
      "outputs": [
        {
          "name": "stdout",
          "output_type": "stream",
          "text": [
            "pick a Vehical:8\n"
          ]
        }
      ]
    },
    {
      "cell_type": "code",
      "source": [
        "a.Available()"
      ],
      "metadata": {
        "colab": {
          "base_uri": "https://localhost:8080/"
        },
        "id": "O9eFOF_ZPX3G",
        "outputId": "e3fef50e-dcda-49b5-b059-71b0135c3396"
      },
      "execution_count": null,
      "outputs": [
        {
          "output_type": "stream",
          "name": "stdout",
          "text": [
            "1 CAR\n",
            "2 BUS\n",
            "3 TWO WHEELER\n",
            "4 FOUR WHEELER\n",
            "5 BIKE\n",
            "6 AUTO\n",
            "7 OLA\n"
          ]
        }
      ]
    },
    {
      "cell_type": "markdown",
      "source": [
        "Problem 4: Library Catalog Create classes representing a library and a book. Implement methods to add books to the library, borrow books, and display available books."
      ],
      "metadata": {
        "id": "nh2yLU2yWR5_"
      }
    },
    {
      "cell_type": "code",
      "source": [
        "class library():\n",
        "\n",
        "  def __init__(self):\n",
        "    self.book=[]\n",
        "\n",
        "  def Available(self):\n",
        "    num=0\n",
        "    for i in self.book:\n",
        "      num+=1\n",
        "      print(num,i)\n",
        "\n",
        "  def add(self):\n",
        "    while True:\n",
        "      x=input(\"Enter book Name or press e :\").lower()\n",
        "      if x!=\"e\":\n",
        "        self.book.append(x)\n",
        "        print(\"book add succesully..!\")\n",
        "      else:\n",
        "       break\n",
        "\n",
        "  def borrow(self):\n",
        "    if len(self.book)<=0:\n",
        "      print(\"sorry...! No book Available at Time \")\n",
        "\n",
        "    else:\n",
        "      print(\"Available book are..:\")\n",
        "      self.Available()\n",
        "      x=int(input(\"Enter which book You Have :\"))\n",
        "      r=self.book.pop(x-1)\n",
        "      print(f\"your choice is Good You select : {r} \")\n",
        "\n",
        "\n",
        "\n"
      ],
      "metadata": {
        "id": "QWeUXjH6V_Y1"
      },
      "execution_count": 38,
      "outputs": []
    },
    {
      "cell_type": "code",
      "source": [
        "a=library()"
      ],
      "metadata": {
        "id": "RPXS_7mcZfhH"
      },
      "execution_count": 39,
      "outputs": []
    },
    {
      "cell_type": "code",
      "source": [
        "a.add()"
      ],
      "metadata": {
        "colab": {
          "base_uri": "https://localhost:8080/"
        },
        "id": "hLcRQfrQZikd",
        "outputId": "a012c312-bb9e-4daf-9a11-69e126750e00"
      },
      "execution_count": 40,
      "outputs": [
        {
          "name": "stdout",
          "output_type": "stream",
          "text": [
            "Enter book Name or press e :Atomic Habbit\n",
            "book add succesully..!\n",
            "Enter book Name or press e :law of power\n",
            "book add succesully..!\n",
            "Enter book Name or press e :bhagwat Gita\n",
            "book add succesully..!\n",
            "Enter book Name or press e :captain jack sparrow\n",
            "book add succesully..!\n",
            "Enter book Name or press e :e\n"
          ]
        }
      ]
    },
    {
      "cell_type": "code",
      "source": [
        "a.Available()"
      ],
      "metadata": {
        "id": "laZVRq02ZkfV",
        "colab": {
          "base_uri": "https://localhost:8080/"
        },
        "outputId": "c5697f15-acb0-4fa7-ba30-06572f25f1ff"
      },
      "execution_count": 41,
      "outputs": [
        {
          "output_type": "stream",
          "name": "stdout",
          "text": [
            "1 atomic habbit\n",
            "2 law of power\n",
            "3 bhagwat gita\n",
            "4 captain jack sparrow\n"
          ]
        }
      ]
    },
    {
      "cell_type": "code",
      "source": [
        "a.borrow()"
      ],
      "metadata": {
        "colab": {
          "base_uri": "https://localhost:8080/"
        },
        "id": "UGqKPBa5xbiH",
        "outputId": "a0664e35-4153-4743-9114-f32c7866c035"
      },
      "execution_count": 42,
      "outputs": [
        {
          "output_type": "stream",
          "name": "stdout",
          "text": [
            "Available book are..:\n",
            "1 atomic habbit\n",
            "2 law of power\n",
            "3 bhagwat gita\n",
            "4 captain jack sparrow\n",
            "Enter which book You Have :3\n",
            "your choice is Good You select : bhagwat gita \n"
          ]
        }
      ]
    },
    {
      "cell_type": "markdown",
      "source": [
        "Problem 5: Product Inventory Create classes representing a product and an inventory system. Implement methods to add products to the inventory, update product quantity, and display available products."
      ],
      "metadata": {
        "id": "S-lyifTO3olx"
      }
    },
    {
      "cell_type": "code",
      "source": [
        "class Product:\n",
        "    def __init__(self, product_id, name, price, quantity):\n",
        "        self.product_id = product_id\n",
        "        self.name = name\n",
        "        self.price = price\n",
        "        self.quantity = quantity\n",
        "\n",
        "    def __str__(self):\n",
        "        return f\"{self.name} (ID: {self.product_id}), Price: ${self.price}, Quantity: {self.quantity}\"\n",
        "\n",
        "class Inventory:\n",
        "    def __init__(self):\n",
        "        self.products = []\n",
        "\n",
        "    def add_product(self, product):\n",
        "        self.products.append(product)\n",
        "        print(f\"Product {product.name} added to the inventory.\")\n",
        "\n",
        "    def update_quantity(self, product_id, new_quantity):\n",
        "        for product in self.products:\n",
        "            if product.product_id == product_id:\n",
        "                product.quantity = new_quantity\n",
        "                print(f\"Quantity for {product.name} updated to {new_quantity}.\")\n",
        "                return\n",
        "        print(f\"Product with ID {product_id} not found in the inventory.\")\n",
        "\n",
        "    def display_products(self):\n",
        "        if not self.products:\n",
        "            print(\"Inventory is empty.\")\n",
        "        else:\n",
        "            print(\"Available Products:\")\n",
        "            for product in self.products:\n",
        "                print(product)\n",
        "\n",
        "if __name__ == \"__main__\":\n",
        "\n",
        "    laptop = Product(1, \"Laptop\", 999.99, 10)\n",
        "    smartphone = Product(2, \"Smartphone\", 499.99, 20)\n",
        "    headphones = Product(3, \"Headphones\", 99.99, 30)\n",
        "\n",
        "\n",
        "    inventory = Inventory()\n",
        "\n",
        "\n",
        "    inventory.add_product(laptop)\n",
        "    inventory.add_product(smartphone)\n",
        "    inventory.add_product(headphones)\n",
        "\n",
        "\n",
        "    inventory.display_products()\n",
        "\n",
        "\n",
        "    inventory.update_quantity(2, 15)\n",
        "\n",
        "\n",
        "    inventory.display_products()\n"
      ],
      "metadata": {
        "colab": {
          "base_uri": "https://localhost:8080/"
        },
        "id": "Xxn4jx1o5-ln",
        "outputId": "a864c925-7b83-4b2a-e503-b2f843416b98"
      },
      "execution_count": 45,
      "outputs": [
        {
          "output_type": "stream",
          "name": "stdout",
          "text": [
            "Product Laptop added to the inventory.\n",
            "Product Smartphone added to the inventory.\n",
            "Product Headphones added to the inventory.\n",
            "Available Products:\n",
            "Laptop (ID: 1), Price: $999.99, Quantity: 10\n",
            "Smartphone (ID: 2), Price: $499.99, Quantity: 20\n",
            "Headphones (ID: 3), Price: $99.99, Quantity: 30\n",
            "Quantity for Smartphone updated to 15.\n",
            "Available Products:\n",
            "Laptop (ID: 1), Price: $999.99, Quantity: 10\n",
            "Smartphone (ID: 2), Price: $499.99, Quantity: 15\n",
            "Headphones (ID: 3), Price: $99.99, Quantity: 30\n"
          ]
        }
      ]
    },
    {
      "cell_type": "markdown",
      "source": [
        "Problem 6: Shape Calculation Create a class representing a shape with attributes like length, width, and height. Implement methods to calculate the area and perimeter of the shape."
      ],
      "metadata": {
        "id": "EpqgD-T37J4h"
      }
    },
    {
      "cell_type": "code",
      "source": [
        "class Shape:\n",
        "    def __init__(self, length=0, width=0, height=0):\n",
        "        self.length = length\n",
        "        self.width = width\n",
        "        self.height = height\n",
        "\n",
        "    def calculate_area(self):\n",
        "        raise NotImplementedError(\"Subclasses must implement this method.\")\n",
        "\n",
        "    def calculate_perimeter(self):\n",
        "        raise NotImplementedError(\"Subclasses must implement this method.\")\n",
        "\n",
        "class Rectangle(Shape):\n",
        "    def calculate_area(self):\n",
        "        return self.length * self.width\n",
        "\n",
        "    def calculate_perimeter(self):\n",
        "        return 2 * (self.length + self.width)\n",
        "\n",
        "class Square(Rectangle):\n",
        "    def __init__(self, side_length):\n",
        "        super().__init__(length=side_length, width=side_length)\n",
        "\n",
        "class Cube(Shape):\n",
        "    def calculate_area(self):\n",
        "        return 6 * (self.length**2)\n",
        "\n",
        "    def calculate_perimeter(self):\n",
        "        return 12 * self.length\n",
        "\n",
        "# Example Usage:\n",
        "if __name__ == \"__main__\":\n",
        "    # Creating instances of different shapes\n",
        "    rectangle = Rectangle(length=5, width=3)\n",
        "    square = Square(side_length=4)\n",
        "    cube = Cube(length=2)\n",
        "\n",
        "    # Calculating and printing area and perimeter for each shape\n",
        "    print(\"Rectangle - Area:\", rectangle.calculate_area(), \"Perimeter:\", rectangle.calculate_perimeter())\n",
        "    print(\"Square - Area:\", square.calculate_area(), \"Perimeter:\", square.calculate_perimeter())\n",
        "    print(\"Cube - Surface Area:\", cube.calculate_area(), \"Perimeter:\", cube.calculate_perimeter())\n"
      ],
      "metadata": {
        "colab": {
          "base_uri": "https://localhost:8080/"
        },
        "id": "Rkyfj4X16I5f",
        "outputId": "619133f4-a202-46fc-d16c-a2f42bb0253b"
      },
      "execution_count": 46,
      "outputs": [
        {
          "output_type": "stream",
          "name": "stdout",
          "text": [
            "Rectangle - Area: 15 Perimeter: 16\n",
            "Square - Area: 16 Perimeter: 16\n",
            "Cube - Surface Area: 24 Perimeter: 24\n"
          ]
        }
      ]
    },
    {
      "cell_type": "markdown",
      "source": [
        "Problem 7: Student Management Create a class representing a student with attributes like student ID, name, and grades. Implement methods to calculate the average grade and display student details."
      ],
      "metadata": {
        "id": "MbaG-xPb7W2X"
      }
    },
    {
      "cell_type": "code",
      "source": [
        "class Student:\n",
        "    def __init__(self, student_id, name, grades=[]):\n",
        "        self.student_id = student_id\n",
        "        self.name = name\n",
        "        self.grades = grades\n",
        "\n",
        "    def add_grade(self, grade):\n",
        "        self.grades.append(grade)\n",
        "        print(f\"Grade {grade} added for {self.name}.\")\n",
        "\n",
        "    def calculate_average_grade(self):\n",
        "        if not self.grades:\n",
        "            return 0  # Avoid division by zero if no grades are available\n",
        "        return sum(self.grades) / len(self.grades)\n",
        "\n",
        "    def display_details(self):\n",
        "        print(f\"Student ID: {self.student_id}\")\n",
        "        print(f\"Name: {self.name}\")\n",
        "        if self.grades:\n",
        "            print(\"Grades:\", \", \".join(map(str, self.grades)))\n",
        "            print(\"Average Grade:\", self.calculate_average_grade())\n",
        "        else:\n",
        "            print(\"No grades available for this student.\")\n",
        "\n",
        "# Example Usage:\n",
        "if __name__ == \"__main__\":\n",
        "    # Creating an instance of the Student class\n",
        "    student1 = Student(student_id=1, name=\"John Doe\", grades=[85, 90, 78, 92])\n",
        "\n",
        "    # Displaying student details\n",
        "    student1.display_details()\n",
        "\n",
        "    # Adding a new grade\n",
        "    student1.add_grade(88)\n",
        "\n",
        "    # Displaying student details after adding a grade\n",
        "    student1.display_details()\n"
      ],
      "metadata": {
        "colab": {
          "base_uri": "https://localhost:8080/"
        },
        "id": "AoxDJijL7QrP",
        "outputId": "27f846e0-96ec-40f5-d6ec-925c16ac57f5"
      },
      "execution_count": 47,
      "outputs": [
        {
          "output_type": "stream",
          "name": "stdout",
          "text": [
            "Student ID: 1\n",
            "Name: John Doe\n",
            "Grades: 85, 90, 78, 92\n",
            "Average Grade: 86.25\n",
            "Grade 88 added for John Doe.\n",
            "Student ID: 1\n",
            "Name: John Doe\n",
            "Grades: 85, 90, 78, 92, 88\n",
            "Average Grade: 86.6\n"
          ]
        }
      ]
    },
    {
      "cell_type": "markdown",
      "source": [
        "Problem 8: Email Management Create a class representing an email with attributes like sender, recipient, and subject. Implement methods to send an email and display email details."
      ],
      "metadata": {
        "id": "iup23F4B7eTR"
      }
    },
    {
      "cell_type": "code",
      "source": [
        "class Email:\n",
        "    def __init__(self, sender, recipient, subject, content):\n",
        "        self.sender = sender\n",
        "        self.recipient = recipient\n",
        "        self.subject = subject\n",
        "        self.content = content\n",
        "        self.is_sent = False\n",
        "\n",
        "    def send_email(self):\n",
        "        # Logic to send an email (this is a placeholder, you can replace it with actual email sending logic)\n",
        "        print(f\"Email sent from {self.sender} to {self.recipient} with subject '{self.subject}'.\")\n",
        "        self.is_sent = True\n",
        "\n",
        "    def display_details(self):\n",
        "        print(\"Email Details:\")\n",
        "        print(f\"Sender: {self.sender}\")\n",
        "        print(f\"Recipient: {self.recipient}\")\n",
        "        print(f\"Subject: {self.subject}\")\n",
        "        print(\"Content:\")\n",
        "        print(self.content)\n",
        "        print(\"Status: Sent\" if self.is_sent else \"Status: Not Sent\")\n",
        "\n",
        "# Example Usage:\n",
        "if __name__ == \"__main__\":\n",
        "    # Creating an instance of the Email class\n",
        "    email1 = Email(sender=\"john@example.com\", recipient=\"jane@example.com\", subject=\"Meeting Tomorrow\", content=\"Hi Jane, let's meet tomorrow at 2 PM.\")\n",
        "\n",
        "    # Displaying email details\n",
        "    email1.display_details()\n",
        "\n",
        "    # Sending the email\n",
        "    email1.send_email()\n",
        "\n",
        "    # Displaying email details after sending\n",
        "    email1.display_details()\n"
      ],
      "metadata": {
        "colab": {
          "base_uri": "https://localhost:8080/"
        },
        "id": "ITI13WMT7cyX",
        "outputId": "aa6b323c-f0c0-4967-bb50-7c27a778ebc4"
      },
      "execution_count": 48,
      "outputs": [
        {
          "output_type": "stream",
          "name": "stdout",
          "text": [
            "Email Details:\n",
            "Sender: john@example.com\n",
            "Recipient: jane@example.com\n",
            "Subject: Meeting Tomorrow\n",
            "Content:\n",
            "Hi Jane, let's meet tomorrow at 2 PM.\n",
            "Status: Not Sent\n",
            "Email sent from john@example.com to jane@example.com with subject 'Meeting Tomorrow'.\n",
            "Email Details:\n",
            "Sender: john@example.com\n",
            "Recipient: jane@example.com\n",
            "Subject: Meeting Tomorrow\n",
            "Content:\n",
            "Hi Jane, let's meet tomorrow at 2 PM.\n",
            "Status: Sent\n"
          ]
        }
      ]
    },
    {
      "cell_type": "markdown",
      "source": [
        "Problem 9: Social Media Profile Create a class representing a social media profile with attributes like username and posts. Implement methods to add posts, display posts, and search for posts by keyword."
      ],
      "metadata": {
        "id": "N-8Izsqi7t1w"
      }
    },
    {
      "cell_type": "code",
      "source": [
        "class SocialMediaProfile:\n",
        "    def __init__(self, username):\n",
        "        self.username = username\n",
        "        self.posts = []\n",
        "\n",
        "    def add_post(self, content):\n",
        "        post = {\"content\": content, \"author\": self.username}\n",
        "        self.posts.append(post)\n",
        "        print(f\"Post added by {self.username}.\")\n",
        "\n",
        "    def display_posts(self):\n",
        "        if not self.posts:\n",
        "            print(f\"{self.username}'s profile has no posts.\")\n",
        "        else:\n",
        "            print(f\"{self.username}'s Posts:\")\n",
        "            for i, post in enumerate(self.posts, 1):\n",
        "                print(f\"{i}. {post['content']} - by {post['author']}\")\n",
        "\n",
        "    def search_posts(self, keyword):\n",
        "        matching_posts = [post for post in self.posts if keyword.lower() in post['content'].lower()]\n",
        "        if not matching_posts:\n",
        "            print(f\"No posts found containing the keyword '{keyword}'.\")\n",
        "        else:\n",
        "            print(f\"Posts containing the keyword '{keyword}':\")\n",
        "            for i, post in enumerate(matching_posts, 1):\n",
        "                print(f\"{i}. {post['content']} - by {post['author']}\")\n",
        "\n",
        "# Example Usage:\n",
        "if __name__ == \"__main__\":\n",
        "    # Creating an instance of the SocialMediaProfile class\n",
        "    profile1 = SocialMediaProfile(username=\"john_doe\")\n",
        "\n",
        "    # Adding posts to the profile\n",
        "    profile1.add_post(\"Hello, this is my first post!\")\n",
        "    profile1.add_post(\"Enjoying a sunny day. ☀️\")\n",
        "    profile1.add_post(\"Just finished reading a great book.\")\n",
        "\n",
        "    # Displaying all posts on the profile\n",
        "    profile1.display_posts()\n",
        "\n",
        "    # Searching for posts containing a keyword\n",
        "    profile1.search_posts(\"book\")\n"
      ],
      "metadata": {
        "colab": {
          "base_uri": "https://localhost:8080/"
        },
        "id": "25Cv15fF7o-W",
        "outputId": "54e4feee-5da3-4dc0-e9fa-2c0838e37e92"
      },
      "execution_count": 49,
      "outputs": [
        {
          "output_type": "stream",
          "name": "stdout",
          "text": [
            "Post added by john_doe.\n",
            "Post added by john_doe.\n",
            "Post added by john_doe.\n",
            "john_doe's Posts:\n",
            "1. Hello, this is my first post! - by john_doe\n",
            "2. Enjoying a sunny day. ☀️ - by john_doe\n",
            "3. Just finished reading a great book. - by john_doe\n",
            "Posts containing the keyword 'book':\n",
            "1. Just finished reading a great book. - by john_doe\n"
          ]
        }
      ]
    },
    {
      "cell_type": "markdown",
      "source": [
        "Problem 10: ToDo List Create a class representing a ToDo list with attributes like tasks and due dates. Implement methods to add tasks, mark tasks as completed, and display pending tasks."
      ],
      "metadata": {
        "id": "sIAn6fhI74jI"
      }
    },
    {
      "cell_type": "code",
      "source": [
        "from datetime import datetime\n",
        "\n",
        "class ToDoList:\n",
        "    def __init__(self):\n",
        "        self.tasks = []\n",
        "\n",
        "    def add_task(self, task, due_date=None):\n",
        "        if due_date is not None:\n",
        "            try:\n",
        "                due_date = datetime.strptime(due_date, \"%Y-%m-%d\").date()\n",
        "            except ValueError:\n",
        "                print(\"Invalid date format. Please use YYYY-MM-DD.\")\n",
        "                return\n",
        "\n",
        "        new_task = {\"task\": task, \"due_date\": due_date, \"completed\": False}\n",
        "        self.tasks.append(new_task)\n",
        "        print(f\"Task '{task}' added to the ToDo list.\")\n",
        "\n",
        "    def mark_task_completed(self, task_index):\n",
        "        if 1 <= task_index <= len(self.tasks):\n",
        "            self.tasks[task_index - 1][\"completed\"] = True\n",
        "            print(f\"Task '{self.tasks[task_index - 1]['task']}' marked as completed.\")\n",
        "        else:\n",
        "            print(\"Invalid task index.\")\n",
        "\n",
        "    def display_pending_tasks(self):\n",
        "        pending_tasks = [task for task in self.tasks if not task[\"completed\"]]\n",
        "\n",
        "        if not pending_tasks:\n",
        "            print(\"No pending tasks.\")\n",
        "        else:\n",
        "            print(\"Pending Tasks:\")\n",
        "            for i, task in enumerate(pending_tasks, 1):\n",
        "                due_date_str = f\" (Due: {task['due_date']})\" if task['due_date'] else \"\"\n",
        "                print(f\"{i}. {task['task']}{due_date_str}\")\n",
        "\n",
        "# Example Usage:\n",
        "if __name__ == \"__main__\":\n",
        "    # Creating an instance of the ToDoList class\n",
        "    todo_list = ToDoList()\n",
        "\n",
        "    # Adding tasks to the ToDo list\n",
        "    todo_list.add_task(\"Complete project\", due_date=\"2023-04-15\")\n",
        "    todo_list.add_task(\"Buy groceries\")\n",
        "    todo_list.add_task(\"Read a chapter\", due_date=\"2023-04-10\")\n",
        "\n",
        "    # Displaying pending tasks\n",
        "    todo_list.display_pending_tasks()\n",
        "\n",
        "    # Marking a task as completed\n",
        "    todo_list.mark_task_completed(2)\n",
        "\n",
        "    # Displaying pending tasks after marking a task as completed\n",
        "    todo_list.display_pending_tasks()\n"
      ],
      "metadata": {
        "colab": {
          "base_uri": "https://localhost:8080/"
        },
        "id": "XVc3izD_709f",
        "outputId": "fc3f3a8c-4060-4ed4-aa19-c89d2006d91a"
      },
      "execution_count": 50,
      "outputs": [
        {
          "output_type": "stream",
          "name": "stdout",
          "text": [
            "Task 'Complete project' added to the ToDo list.\n",
            "Task 'Buy groceries' added to the ToDo list.\n",
            "Task 'Read a chapter' added to the ToDo list.\n",
            "Pending Tasks:\n",
            "1. Complete project (Due: 2023-04-15)\n",
            "2. Buy groceries\n",
            "3. Read a chapter (Due: 2023-04-10)\n",
            "Task 'Buy groceries' marked as completed.\n",
            "Pending Tasks:\n",
            "1. Complete project (Due: 2023-04-15)\n",
            "2. Read a chapter (Due: 2023-04-10)\n"
          ]
        }
      ]
    },
    {
      "cell_type": "code",
      "source": [],
      "metadata": {
        "id": "v9qgFugP7_C_"
      },
      "execution_count": null,
      "outputs": []
    }
  ]
}